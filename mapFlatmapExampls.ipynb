{
 "cells": [
  {
   "cell_type": "raw",
   "id": "490d4be3",
   "metadata": {},
   "source": [
    "## This notbeook shows demos for transformations used in Dstreams \n",
    "-- Transformations in Dstreams --\n",
    "refer link --\n",
    "https://spark.apache.org/docs/latest/streaming-programming-guide.html#transformations-on-dstreams\n"
   ]
  },
  {
   "cell_type": "code",
   "execution_count": 1,
   "id": "044706d4",
   "metadata": {},
   "outputs": [],
   "source": [
    "import findspark"
   ]
  },
  {
   "cell_type": "code",
   "execution_count": 2,
   "id": "16b3cf7e",
   "metadata": {},
   "outputs": [],
   "source": [
    "findspark.init('D:/myspark/spark-3.2.1-bin-hadoop3.2/spark-3.2.1-bin-hadoop3.2')"
   ]
  },
  {
   "cell_type": "code",
   "execution_count": 3,
   "id": "dbf03416",
   "metadata": {},
   "outputs": [],
   "source": [
    "import pyspark\n",
    "from pyspark import  SparkContext\n",
    "from pyspark.streaming import StreamingContext"
   ]
  },
  {
   "cell_type": "code",
   "execution_count": null,
   "id": "859417c1",
   "metadata": {},
   "outputs": [],
   "source": [
    "sc = SparkContext(appName='streamingTransformation')"
   ]
  },
  {
   "cell_type": "code",
   "execution_count": 7,
   "id": "01fc6038",
   "metadata": {},
   "outputs": [],
   "source": [
    "rdd1 = sc.parallelize([3,4,5])"
   ]
  },
  {
   "cell_type": "code",
   "execution_count": 9,
   "id": "72c24ed0",
   "metadata": {},
   "outputs": [
    {
     "data": {
      "text/plain": [
       "[3, 4, 5]"
      ]
     },
     "execution_count": 9,
     "metadata": {},
     "output_type": "execute_result"
    }
   ],
   "source": [
    "rdd1.collect()"
   ]
  },
  {
   "cell_type": "code",
   "execution_count": 14,
   "id": "b64dc342",
   "metadata": {},
   "outputs": [
    {
     "data": {
      "text/plain": [
       "[[9], [16], [25]]"
      ]
     },
     "execution_count": 14,
     "metadata": {},
     "output_type": "execute_result"
    }
   ],
   "source": [
    "# map tranformation\n",
    "rdd1.map(lambda x : [x*x]).collect()"
   ]
  },
  {
   "cell_type": "code",
   "execution_count": 13,
   "id": "b2083fc5",
   "metadata": {},
   "outputs": [
    {
     "data": {
      "text/plain": [
       "[9, 16, 25]"
      ]
     },
     "execution_count": 13,
     "metadata": {},
     "output_type": "execute_result"
    }
   ],
   "source": [
    "#flat map\n",
    "rdd1.flatMap(lambda x : [x*x]).collect()"
   ]
  },
  {
   "cell_type": "code",
   "execution_count": 15,
   "id": "51dcb482",
   "metadata": {},
   "outputs": [],
   "source": [
    "txtFile = sc.textFile('C:\\\\Users\\\\lenovo\\Desktop\\\\python-spark-streaming-master\\\\2_basics\\\\data\\\\greetings.txt')"
   ]
  },
  {
   "cell_type": "code",
   "execution_count": 16,
   "id": "d8ff4538",
   "metadata": {},
   "outputs": [
    {
     "data": {
      "text/plain": [
       "['Good Morning',\n",
       " 'Good Evening',\n",
       " 'Good Day',\n",
       " 'Happy Birthday',\n",
       " 'Happy New Year']"
      ]
     },
     "execution_count": 16,
     "metadata": {},
     "output_type": "execute_result"
    }
   ],
   "source": [
    "txtFile.collect()"
   ]
  },
  {
   "cell_type": "code",
   "execution_count": 30,
   "id": "da142aee",
   "metadata": {},
   "outputs": [
    {
     "data": {
      "text/plain": [
       "['good',\n",
       " 'morning',\n",
       " 'good',\n",
       " 'evening',\n",
       " 'good',\n",
       " 'day',\n",
       " 'happy',\n",
       " 'birthday',\n",
       " 'happy',\n",
       " 'new',\n",
       " 'year']"
      ]
     },
     "execution_count": 30,
     "metadata": {},
     "output_type": "execute_result"
    }
   ],
   "source": [
    "words = txtFile.flatMap(lambda line:line.lower().split(\" \"))\n",
    "words.collect()"
   ]
  },
  {
   "cell_type": "code",
   "execution_count": 31,
   "id": "65ecff4a",
   "metadata": {},
   "outputs": [
    {
     "data": {
      "text/plain": [
       "defaultdict(int,\n",
       "            {'good': 3,\n",
       "             'morning': 1,\n",
       "             'evening': 1,\n",
       "             'day': 1,\n",
       "             'happy': 2,\n",
       "             'birthday': 1,\n",
       "             'new': 1,\n",
       "             'year': 1})"
      ]
     },
     "execution_count": 31,
     "metadata": {},
     "output_type": "execute_result"
    }
   ],
   "source": [
    "words.countByValue()"
   ]
  },
  {
   "cell_type": "code",
   "execution_count": 32,
   "id": "a0168418",
   "metadata": {},
   "outputs": [
    {
     "data": {
      "text/plain": [
       "[('good', 1),\n",
       " ('morning', 1),\n",
       " ('good', 1),\n",
       " ('evening', 1),\n",
       " ('good', 1),\n",
       " ('day', 1),\n",
       " ('happy', 1),\n",
       " ('birthday', 1),\n",
       " ('happy', 1),\n",
       " ('new', 1),\n",
       " ('year', 1)]"
      ]
     },
     "execution_count": 32,
     "metadata": {},
     "output_type": "execute_result"
    }
   ],
   "source": [
    "wordsmap = words.map(lambda word:(word,1))\n",
    "wordsmap.collect()"
   ]
  },
  {
   "cell_type": "code",
   "execution_count": 33,
   "id": "0b5e9e17",
   "metadata": {},
   "outputs": [
    {
     "data": {
      "text/plain": [
       "[('good', 3),\n",
       " ('new', 1),\n",
       " ('year', 1),\n",
       " ('morning', 1),\n",
       " ('evening', 1),\n",
       " ('day', 1),\n",
       " ('happy', 2),\n",
       " ('birthday', 1)]"
      ]
     },
     "execution_count": 33,
     "metadata": {},
     "output_type": "execute_result"
    }
   ],
   "source": [
    "wordsmap.reduceByKey(lambda x,y : x+y).collect()"
   ]
  },
  {
   "cell_type": "code",
   "execution_count": null,
   "id": "74232013",
   "metadata": {},
   "outputs": [],
   "source": []
  }
 ],
 "metadata": {
  "kernelspec": {
   "display_name": "Python 3 (ipykernel)",
   "language": "python",
   "name": "python3"
  },
  "language_info": {
   "codemirror_mode": {
    "name": "ipython",
    "version": 3
   },
   "file_extension": ".py",
   "mimetype": "text/x-python",
   "name": "python",
   "nbconvert_exporter": "python",
   "pygments_lexer": "ipython3",
   "version": "3.9.13"
  }
 },
 "nbformat": 4,
 "nbformat_minor": 5
}
